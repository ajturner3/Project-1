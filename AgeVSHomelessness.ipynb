{
 "cells": [
  {
   "cell_type": "code",
   "execution_count": 12,
   "id": "dfa0924c",
   "metadata": {},
   "outputs": [],
   "source": [
    "import matplotlib.pyplot as plt\n",
    "import pandas as pd\n",
    "import pathlib as path\n",
    "import numpy as np"
   ]
  },
  {
   "cell_type": "code",
   "execution_count": 10,
   "id": "8e3c071e",
   "metadata": {},
   "outputs": [
    {
     "data": {
      "text/plain": [
       "['.DS_Store', '2007-2020-PIT-Estimates-by-state.xlsx', 'homeless_texas.xlsx']"
      ]
     },
     "execution_count": 10,
     "metadata": {},
     "output_type": "execute_result"
    }
   ],
   "source": [
    "#os.listdir('./resources')"
   ]
  },
  {
   "cell_type": "code",
   "execution_count": 11,
   "id": "98e8ff1d",
   "metadata": {},
   "outputs": [],
   "source": [
    "#df = pd.read_excel('./resources/2007-2020-PIT-Estimates-by-state.xlsx', sheet_name=\"2020\")"
   ]
  },
  {
   "cell_type": "code",
   "execution_count": 13,
   "id": "1093ebb2",
   "metadata": {},
   "outputs": [],
   "source": [
    "years = [2013,2014,2015,2016,2017,2018,2019,2020]\n",
    "years_columns_list = {}\n",
    "path = pd.ExcelFile(\"./resources/2007-2020-PIT-Estimates-by-state.xlsx\")\n",
    "\n",
    "for year in years:\n",
    "    df = pd.read_excel(path, sheet_name=str(year))\n",
    "\n",
    "    #get all the column names from all the sheets\n",
    "    column_names = list(df.columns)\n",
    "    \n",
    "    column_numbers_in_each_year = {}\n",
    "    \n",
    "    "
   ]
  },
  {
   "cell_type": "code",
   "execution_count": 14,
   "id": "a06b6393",
   "metadata": {},
   "outputs": [],
   "source": [
    "age_2013 = pd.read_excel(path, '2013')\n",
    "age_2014 = pd.read_excel(path, '2014')\n",
    "age_2015 = pd.read_excel(path, '2015')\n",
    "age_2016 = pd.read_excel(path, '2016')\n",
    "age_2017 = pd.read_excel(path, '2017')\n",
    "age_2018 = pd.read_excel(path, '2018')\n",
    "age_2019 = pd.read_excel(path, '2019')\n",
    "age_2020 = pd.read_excel(path, '2020')"
   ]
  },
  {
   "cell_type": "code",
   "execution_count": 15,
   "id": "2d58caa7",
   "metadata": {},
   "outputs": [],
   "source": [
    "#Get all the data for Texas\n",
    "\n",
    "age_2013.fillna('', inplace=True)\n",
    "tx13 = age_2013[age_2013['State'].str.startswith('TX')].reset_index(drop=True)\n",
    "tx13.insert(0,\"Year\",[2013])\n",
    "\n",
    "\n",
    "age_2014.fillna('', inplace=True)\n",
    "tx14 = age_2014[age_2014['State'].str.startswith('TX')].reset_index(drop=True)\n",
    "tx14.insert(0,\"Year\",[2014])\n",
    "\n",
    "age_2015.fillna('', inplace=True)\n",
    "tx15 = age_2015[age_2015['State'].str.startswith('TX')].reset_index(drop=True)\n",
    "tx15.insert(0,\"Year\",[2015])\n",
    "\n",
    "age_2016.fillna('', inplace=True)\n",
    "tx16 = age_2016[age_2016['State'].str.startswith('TX')].reset_index(drop=True)\n",
    "tx16.insert(0,\"Year\",[2016])\n",
    "\n",
    "age_2017.fillna('', inplace=True)\n",
    "tx17 = age_2017[age_2017['State'].str.startswith('TX')].reset_index(drop=True)\n",
    "tx17.insert(0,\"Year\",[2017])\n",
    "\n",
    "age_2018.fillna('', inplace=True)\n",
    "tx18 = age_2018[age_2018['State'].str.startswith('TX')].reset_index(drop=True)\n",
    "tx18.insert(0,\"Year\",[2018])\n",
    "\n",
    "age_2019.fillna('', inplace=True)\n",
    "tx19 = age_2019[age_2019['State'].str.startswith('TX')].reset_index(drop=True)\n",
    "tx19.insert(0,\"Year\",[2019])\n",
    "\n",
    "age_2020.fillna('', inplace=True)\n",
    "tx20 = age_2020[age_2020['State'].str.startswith('TX')].reset_index(drop=True)\n",
    "tx20.insert(0,\"Year\",[2020])"
   ]
  },
  {
   "cell_type": "code",
   "execution_count": 61,
   "id": "34f2554c",
   "metadata": {},
   "outputs": [],
   "source": [
    "df_tx13 = tx13.iloc[:, :7].copy()\n",
    "df_tx14 = tx14.iloc[:, :7].copy()\n",
    "df_tx15 = tx15.iloc[:, :7].copy()\n",
    "df_tx16 = tx16.iloc[:, :7].copy()\n",
    "df_tx17 = tx17.iloc[:, :7].copy()\n",
    "df_tx18 = tx18.iloc[:, :7].copy()\n",
    "df_tx19 = tx19.iloc[:, :7].copy()\n",
    "df_tx20 = tx20.iloc[:, :7].copy()"
   ]
  },
  {
   "cell_type": "code",
   "execution_count": 62,
   "id": "165d649d",
   "metadata": {},
   "outputs": [],
   "source": [
    "values_2013 = list(df_tx13.values)\n",
    "values_2014 = list(df_tx14.values)\n",
    "values_2015 = list(df_tx15.values)\n",
    "values_2016 = list(df_tx16.values)\n",
    "values_2017 = list(df_tx17.values)\n",
    "values_2018 = list(df_tx18.values)\n",
    "values_2019 = list(df_tx19.values)\n",
    "values_2020 = list(df_tx20.values)"
   ]
  },
  {
   "cell_type": "code",
   "execution_count": 63,
   "id": "a396c37d",
   "metadata": {},
   "outputs": [],
   "source": [
    "all_year_list = [values_2013, values_2014, values_2015, values_2016, values_2017, values_2018, values_2019, values_2020]"
   ]
  },
  {
   "cell_type": "code",
   "execution_count": 64,
   "id": "dc3d95c8",
   "metadata": {},
   "outputs": [
    {
     "data": {
      "text/plain": [
       "array([2013, 'TX', 12, 29615, 5478, 2056], dtype=object)"
      ]
     },
     "execution_count": 64,
     "metadata": {},
     "output_type": "execute_result"
    }
   ],
   "source": [
    "year[0]"
   ]
  },
  {
   "cell_type": "code",
   "execution_count": 65,
   "id": "a250e6f9",
   "metadata": {},
   "outputs": [],
   "source": [
    "list1 = []\n",
    "list2 = []\n",
    "list3 = []\n",
    "list4 = []\n",
    "list5 = []\n",
    "list6 = []\n",
    "list7 = []"
   ]
  },
  {
   "cell_type": "code",
   "execution_count": 66,
   "id": "2eb937e8",
   "metadata": {},
   "outputs": [],
   "source": [
    "for year in all_year_list:\n",
    "    val1, val2, val3, val4, val5, val6, val7 = year[0]\n",
    "    list1.append(val1)    \n",
    "    list2.append(val2)\n",
    "    list3.append(val3)\n",
    "    list4.append(val4)\n",
    "    list5.append(val5)\n",
    "    list6.append(val6)\n",
    "    list7.append(val7)"
   ]
  },
  {
   "cell_type": "code",
   "execution_count": 69,
   "id": "3649ef80",
   "metadata": {},
   "outputs": [],
   "source": [
    "complete_df_tx = pd.DataFrame({'Year':list1, 'State': list2, 'Number of CoCs': list3, 'Overall Homeless': list4, 'Overall Homeless - Under 18':list5, 'Overall Homeless - Age 18 to 24':list6, 'Overall Homeless - Over 24':list7})"
   ]
  },
  {
   "cell_type": "code",
   "execution_count": 70,
   "id": "17a9477e",
   "metadata": {},
   "outputs": [
    {
     "data": {
      "text/html": [
       "<div>\n",
       "<style scoped>\n",
       "    .dataframe tbody tr th:only-of-type {\n",
       "        vertical-align: middle;\n",
       "    }\n",
       "\n",
       "    .dataframe tbody tr th {\n",
       "        vertical-align: top;\n",
       "    }\n",
       "\n",
       "    .dataframe thead th {\n",
       "        text-align: right;\n",
       "    }\n",
       "</style>\n",
       "<table border=\"1\" class=\"dataframe\">\n",
       "  <thead>\n",
       "    <tr style=\"text-align: right;\">\n",
       "      <th></th>\n",
       "      <th>Year</th>\n",
       "      <th>State</th>\n",
       "      <th>Number of CoCs</th>\n",
       "      <th>Overall Homeless</th>\n",
       "      <th>Overall Homeless - Under 18</th>\n",
       "      <th>Overall Homeless - Age 18 to 24</th>\n",
       "      <th>Overall Homeless - Over 24</th>\n",
       "    </tr>\n",
       "  </thead>\n",
       "  <tbody>\n",
       "    <tr>\n",
       "      <th>0</th>\n",
       "      <td>2013</td>\n",
       "      <td>TX</td>\n",
       "      <td>12</td>\n",
       "      <td>29615</td>\n",
       "      <td>5478</td>\n",
       "      <td>2056</td>\n",
       "      <td>22081</td>\n",
       "    </tr>\n",
       "    <tr>\n",
       "      <th>1</th>\n",
       "      <td>2014</td>\n",
       "      <td>TX</td>\n",
       "      <td>12</td>\n",
       "      <td>28495</td>\n",
       "      <td>5873</td>\n",
       "      <td>2143</td>\n",
       "      <td>20479</td>\n",
       "    </tr>\n",
       "    <tr>\n",
       "      <th>2</th>\n",
       "      <td>2015</td>\n",
       "      <td>TX</td>\n",
       "      <td>11</td>\n",
       "      <td>23678</td>\n",
       "      <td>4529</td>\n",
       "      <td>1712</td>\n",
       "      <td>17437</td>\n",
       "    </tr>\n",
       "    <tr>\n",
       "      <th>3</th>\n",
       "      <td>2016</td>\n",
       "      <td>TX</td>\n",
       "      <td>11</td>\n",
       "      <td>23122</td>\n",
       "      <td>4615</td>\n",
       "      <td>1596</td>\n",
       "      <td>16911</td>\n",
       "    </tr>\n",
       "    <tr>\n",
       "      <th>4</th>\n",
       "      <td>2017</td>\n",
       "      <td>TX</td>\n",
       "      <td>11</td>\n",
       "      <td>23548</td>\n",
       "      <td>4286</td>\n",
       "      <td>1750</td>\n",
       "      <td>17512</td>\n",
       "    </tr>\n",
       "    <tr>\n",
       "      <th>5</th>\n",
       "      <td>2018</td>\n",
       "      <td>TX</td>\n",
       "      <td>11</td>\n",
       "      <td>25310</td>\n",
       "      <td>4101</td>\n",
       "      <td>1671</td>\n",
       "      <td>19538</td>\n",
       "    </tr>\n",
       "    <tr>\n",
       "      <th>6</th>\n",
       "      <td>2019</td>\n",
       "      <td>TX</td>\n",
       "      <td>11</td>\n",
       "      <td>25848</td>\n",
       "      <td>4249</td>\n",
       "      <td>1523</td>\n",
       "      <td>20076</td>\n",
       "    </tr>\n",
       "    <tr>\n",
       "      <th>7</th>\n",
       "      <td>2020</td>\n",
       "      <td>TX</td>\n",
       "      <td>11</td>\n",
       "      <td>27229</td>\n",
       "      <td>4048</td>\n",
       "      <td>1663</td>\n",
       "      <td>21518</td>\n",
       "    </tr>\n",
       "  </tbody>\n",
       "</table>\n",
       "</div>"
      ],
      "text/plain": [
       "   Year State  Number of CoCs  Overall Homeless  Overall Homeless - Under 18  \\\n",
       "0  2013    TX              12             29615                         5478   \n",
       "1  2014    TX              12             28495                         5873   \n",
       "2  2015    TX              11             23678                         4529   \n",
       "3  2016    TX              11             23122                         4615   \n",
       "4  2017    TX              11             23548                         4286   \n",
       "5  2018    TX              11             25310                         4101   \n",
       "6  2019    TX              11             25848                         4249   \n",
       "7  2020    TX              11             27229                         4048   \n",
       "\n",
       "   Overall Homeless - Age 18 to 24  Overall Homeless - Over 24  \n",
       "0                             2056                       22081  \n",
       "1                             2143                       20479  \n",
       "2                             1712                       17437  \n",
       "3                             1596                       16911  \n",
       "4                             1750                       17512  \n",
       "5                             1671                       19538  \n",
       "6                             1523                       20076  \n",
       "7                             1663                       21518  "
      ]
     },
     "execution_count": 70,
     "metadata": {},
     "output_type": "execute_result"
    }
   ],
   "source": [
    "complete_df_tx"
   ]
  },
  {
   "cell_type": "code",
   "execution_count": 18,
   "id": "5652d64f",
   "metadata": {},
   "outputs": [],
   "source": [
    "complete_df_ca"
   ]
  },
  {
   "cell_type": "code",
   "execution_count": null,
   "id": "8813d567",
   "metadata": {},
   "outputs": [],
   "source": []
  },
  {
   "cell_type": "code",
   "execution_count": null,
   "id": "71a68919",
   "metadata": {},
   "outputs": [],
   "source": []
  },
  {
   "cell_type": "code",
   "execution_count": null,
   "id": "1048b191",
   "metadata": {},
   "outputs": [],
   "source": []
  },
  {
   "cell_type": "code",
   "execution_count": null,
   "id": "8257ba96",
   "metadata": {},
   "outputs": [],
   "source": []
  },
  {
   "cell_type": "code",
   "execution_count": null,
   "id": "bd573c4c",
   "metadata": {},
   "outputs": [],
   "source": []
  },
  {
   "cell_type": "code",
   "execution_count": null,
   "id": "64186a81",
   "metadata": {},
   "outputs": [],
   "source": [
    "# D - 4 - Overall Homeless - Under 18, 2013\n",
    "# E - 5 - Overall Homeless - Age 18 to 24, 2013\n",
    "# F - 6 - Overall Homeless - Over 24, 2013"
   ]
  }
 ],
 "metadata": {
  "kernelspec": {
   "display_name": "Python 3 (ipykernel)",
   "language": "python",
   "name": "python3"
  },
  "language_info": {
   "codemirror_mode": {
    "name": "ipython",
    "version": 3
   },
   "file_extension": ".py",
   "mimetype": "text/x-python",
   "name": "python",
   "nbconvert_exporter": "python",
   "pygments_lexer": "ipython3",
   "version": "3.11.4"
  }
 },
 "nbformat": 4,
 "nbformat_minor": 5
}
